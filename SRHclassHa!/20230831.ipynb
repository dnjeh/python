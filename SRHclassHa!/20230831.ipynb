{
 "cells": [
  {
   "cell_type": "markdown",
   "metadata": {},
   "source": [
    "##### p35_ex1"
   ]
  },
  {
   "cell_type": "code",
   "execution_count": 1,
   "metadata": {},
   "outputs": [],
   "source": [
    "class Character:\n",
    "    def hi():\n",
    "        print(\"안녕하세요\")"
   ]
  },
  {
   "cell_type": "markdown",
   "metadata": {},
   "source": [
    "##### p35_ex2"
   ]
  },
  {
   "cell_type": "code",
   "execution_count": 2,
   "metadata": {},
   "outputs": [
    {
     "data": {
      "text/plain": [
       "__main__.Character"
      ]
     },
     "execution_count": 2,
     "metadata": {},
     "output_type": "execute_result"
    }
   ],
   "source": [
    "swordman = Character()\n",
    "type(swordman)"
   ]
  },
  {
   "cell_type": "markdown",
   "metadata": {},
   "source": [
    "##### p35_ex3"
   ]
  },
  {
   "cell_type": "code",
   "execution_count": 3,
   "metadata": {},
   "outputs": [],
   "source": [
    "fairy = Character()\n",
    "thief = Character()"
   ]
  },
  {
   "cell_type": "markdown",
   "metadata": {},
   "source": [
    "##### p35_ex4"
   ]
  },
  {
   "cell_type": "code",
   "execution_count": 7,
   "metadata": {},
   "outputs": [
    {
     "ename": "TypeError",
     "evalue": "Character.hi() takes 0 positional arguments but 1 was given",
     "output_type": "error",
     "traceback": [
      "\u001b[1;31m---------------------------------------------------------------------------\u001b[0m",
      "\u001b[1;31mTypeError\u001b[0m                                 Traceback (most recent call last)",
      "Cell \u001b[1;32mIn[7], line 1\u001b[0m\n\u001b[1;32m----> 1\u001b[0m swordman\u001b[39m.\u001b[39;49mhi()\n",
      "\u001b[1;31mTypeError\u001b[0m: Character.hi() takes 0 positional arguments but 1 was given"
     ]
    }
   ],
   "source": [
    "swordman.hi()"
   ]
  },
  {
   "cell_type": "markdown",
   "metadata": {},
   "source": [
    "##### p35_ex5"
   ]
  },
  {
   "cell_type": "code",
   "execution_count": 8,
   "metadata": {},
   "outputs": [],
   "source": [
    "#호출할 때 인자가 없는 것이 아님. 객체명이 전달 되기 때문에, self로 인자를 받을 매개변수를 처리함\n",
    "class Character:\n",
    "    def hi(self):\n",
    "        print(\"안녕하세요\")"
   ]
  },
  {
   "cell_type": "markdown",
   "metadata": {},
   "source": [
    "##### p35_ex6+a"
   ]
  },
  {
   "cell_type": "code",
   "execution_count": 10,
   "metadata": {},
   "outputs": [
    {
     "name": "stdout",
     "output_type": "stream",
     "text": [
      "안녕하세요\n",
      "안녕하세요\n",
      "안녕하세요\n"
     ]
    }
   ],
   "source": [
    "swordman = Character()\n",
    "fairy = Character() #\n",
    "thief = Character() #\n",
    "swordman.hi()\n",
    "fairy.hi() #\n",
    "thief.hi() #"
   ]
  },
  {
   "cell_type": "markdown",
   "metadata": {},
   "source": [
    "##### p35_ex7"
   ]
  },
  {
   "cell_type": "code",
   "execution_count": 11,
   "metadata": {},
   "outputs": [
    {
     "name": "stdout",
     "output_type": "stream",
     "text": [
      "안녕! 난 검술사\n"
     ]
    }
   ],
   "source": [
    "class Character:\n",
    "    def hi(self, name):\n",
    "        print(\"안녕! 난\", name)\n",
    "\n",
    "swordman = Character()\n",
    "swordman.hi(\"검술사\")"
   ]
  },
  {
   "cell_type": "markdown",
   "metadata": {},
   "source": [
    "##### p36_ex8"
   ]
  },
  {
   "cell_type": "code",
   "execution_count": 12,
   "metadata": {},
   "outputs": [
    {
     "name": "stdout",
     "output_type": "stream",
     "text": [
      "도적 을/를 공격합니다!\n"
     ]
    }
   ],
   "source": [
    "class Character:\n",
    "    def hi(self, name):\n",
    "        print(\"안녕! 난\", name)\n",
    "    \n",
    "    def attack(self, target):\n",
    "        print(target, \"을/를 공격합니다!\")\n",
    "swordman = Character()\n",
    "swordman.attack(\"도적\")"
   ]
  },
  {
   "cell_type": "markdown",
   "metadata": {},
   "source": [
    "##### p36_ex9"
   ]
  },
  {
   "cell_type": "code",
   "execution_count": 15,
   "metadata": {},
   "outputs": [],
   "source": [
    "class Character:\n",
    "    def __init__(self, name, hp, ad):\n",
    "        self.name = name\n",
    "        self.strength = hp\n",
    "        self.attack_damage = ad\n",
    "        print(\"Character 클래스의 객체 생성 =>\", self.name)"
   ]
  },
  {
   "cell_type": "markdown",
   "metadata": {},
   "source": [
    "##### p36_ex10"
   ]
  },
  {
   "cell_type": "code",
   "execution_count": 16,
   "metadata": {},
   "outputs": [
    {
     "name": "stdout",
     "output_type": "stream",
     "text": [
      "Character 클래스의 객체 생성 => 검술사\n"
     ]
    }
   ],
   "source": [
    "swordman = Character(\"검술사\", 100, 10)"
   ]
  },
  {
   "cell_type": "markdown",
   "metadata": {},
   "source": [
    "##### p36_ex11+a"
   ]
  },
  {
   "cell_type": "code",
   "execution_count": 30,
   "metadata": {},
   "outputs": [
    {
     "name": "stdout",
     "output_type": "stream",
     "text": [
      "Character 클래스의 객체 생성 => 검술사\n",
      "이름=> 검술사 , 체력=> 100 , 공격력=> 10\n",
      "이름=> 검술사 , 체력=> 120 , 공격력=> 15\n",
      "이름=> 검술사 , 체력=> 121.2 , 공격력=> 16.5\n"
     ]
    }
   ],
   "source": [
    "class Character:\n",
    "    def __init__(self, name, hp, ad):\n",
    "        self.name = name\n",
    "        self.strength = hp\n",
    "        self.attack_damage = ad\n",
    "        print(\"Character 클래스의 객체 생성 =>\", self.name)\n",
    "    def information(self):\n",
    "        print(\"이름=>\", self.name, \", 체력=>\", self.strength, \", 공격력=>\", self.attack_damage)\n",
    "    def attack(self, target):\n",
    "        print(target, \"을/를 공격합니다!\")\n",
    "    def level_up(self):                       #+a\n",
    "        self.strength += 1.2                  #+a\n",
    "        self.attack_damage += 1.5             #+a\n",
    "\n",
    "swordsman = Character(\"검술사\", 100, 10)\n",
    "swordsman.information()\n",
    "\n",
    "swordsman.strength, swordsman.attack_damage = 120, 15\n",
    "swordsman.information()\n",
    "\n",
    "swordsman.level_up()\n",
    "swordsman.information()"
   ]
  },
  {
   "cell_type": "markdown",
   "metadata": {},
   "source": [
    "##### p36_ex12"
   ]
  },
  {
   "cell_type": "code",
   "execution_count": 24,
   "metadata": {},
   "outputs": [],
   "source": [
    "#p36_ex12_1+a\n",
    "class Character:\n",
    "    def __init__(self, name, hp, ad):\n",
    "        self.name = name\n",
    "        self.strength = hp\n",
    "        self.attack_damage = ad\n",
    "        print(\"Character 클래스의 객체 생성 =>\", self.name)\n",
    "\n",
    "    def information(self):\n",
    "        print(\"이름=>\", self.name, \", 체력=>\", self.strength, \", 공격력=>\", self.attack_damage)\n",
    "\n",
    "    def attack(self, target):\n",
    "        print(self.name, \"이/가\", target.name, '(', target.strength, \", 공격력=>\", self.attack_damage, \") 을/를 공격합니다!\")\n",
    "        target.strength-=self.attack_damage\n",
    "        print(\"공격성공!\", target.name, '(', target.strength, ')')\n",
    "\n",
    "    def level_up(self):                       #+a\n",
    "        self.strength += 1.2                  #+a\n",
    "        self.attack_damage += 1.5             #+a"
   ]
  },
  {
   "cell_type": "code",
   "execution_count": 26,
   "metadata": {},
   "outputs": [
    {
     "name": "stdout",
     "output_type": "stream",
     "text": [
      "Character 클래스의 객체 생성 => 검술사\n",
      "Character 클래스의 객체 생성 => 요정\n",
      "Character 클래스의 객체 생성 => 도적\n"
     ]
    }
   ],
   "source": [
    "#p36_ex12_2\n",
    "swordsman = Character(\"검술사\", 100, 10)\n",
    "fairy = Character(\"요정\", 60, 5)\n",
    "thief = Character(\"도적\", 85, 8)"
   ]
  },
  {
   "cell_type": "code",
   "execution_count": 27,
   "metadata": {},
   "outputs": [
    {
     "name": "stdout",
     "output_type": "stream",
     "text": [
      "검술사 이/가 요정 ( 60 , 공격력=> 10 ) 을/를 공격합니다!\n",
      "공격성공! 요정 ( 50 )\n"
     ]
    }
   ],
   "source": [
    "#p36_ex12_3\n",
    "swordsman.attack(fairy)"
   ]
  },
  {
   "cell_type": "code",
   "execution_count": 28,
   "metadata": {},
   "outputs": [
    {
     "name": "stdout",
     "output_type": "stream",
     "text": [
      "도적 이/가 검술사 ( 100 , 공격력=> 8 ) 을/를 공격합니다!\n",
      "공격성공! 검술사 ( 92 )\n"
     ]
    }
   ],
   "source": [
    "#p36_ex12_4\n",
    "thief.attack(swordsman)"
   ]
  },
  {
   "cell_type": "code",
   "execution_count": 29,
   "metadata": {},
   "outputs": [
    {
     "name": "stdout",
     "output_type": "stream",
     "text": [
      "요정 이/가 도적 ( 85 , 공격력=> 5 ) 을/를 공격합니다!\n",
      "공격성공! 도적 ( 80 )\n"
     ]
    }
   ],
   "source": [
    "#p36_ex12_5\n",
    "fairy.attack(thief)"
   ]
  },
  {
   "cell_type": "markdown",
   "metadata": {},
   "source": [
    "##### p37_ex13"
   ]
  },
  {
   "cell_type": "code",
   "execution_count": 32,
   "metadata": {},
   "outputs": [],
   "source": [
    "#p37_ex13_1\n",
    "class Product:\n",
    "    def __init__(self, n, p, s):\n",
    "        self.name, self.price, self.stock = n, p, s\n",
    "    \n",
    "    def information(self):\n",
    "        print(\"상품 이름 : \", self.name)\n",
    "        print(\"상품 가격 : \", self.price)\n",
    "        print(\"남은 재고 : \", self.stock)"
   ]
  },
  {
   "cell_type": "code",
   "execution_count": 39,
   "metadata": {},
   "outputs": [],
   "source": [
    "#p37_ex13_2\n",
    "class Member:\n",
    "    def __init__(self, n, j):\n",
    "        self.name, self.join_date = n, j\n",
    "        self.purchase_list = []\n",
    "        self.purchase_amount = 0\n",
    "    def information(self):\n",
    "        print(\"회원 이름 : \", self.name)\n",
    "        print(\"가입 날짜 : \", self.join_date)\n",
    "        print(\"구매 내역 : \", self.purchase_list)\n",
    "        print(\"누적 구매금액 : \", self.purchase_amount)\n",
    "    def buy(self, product, cnt):\n",
    "        print(self.name, \"고객님이\", product.name, \"을\", cnt, \"개 구매!\")\n",
    "        product.stock -= cnt\n",
    "        self.purchase_list.append(product.name)\n",
    "        self.purchase_amount += product.stock * cnt\n",
    "    "
   ]
  },
  {
   "cell_type": "code",
   "execution_count": 33,
   "metadata": {},
   "outputs": [],
   "source": [
    "#p37_ex13_3\n",
    "socks = Product(\"양말\", 1000, 10)\n",
    "books = Product(\"책\", 17500, 15)"
   ]
  },
  {
   "cell_type": "code",
   "execution_count": 35,
   "metadata": {},
   "outputs": [
    {
     "name": "stdout",
     "output_type": "stream",
     "text": [
      "상품 이름 :  양말\n",
      "상품 가격 :  1000\n",
      "남은 재고 :  10\n",
      "상품 이름 :  책\n",
      "상품 가격 :  17500\n",
      "남은 재고 :  15\n"
     ]
    }
   ],
   "source": [
    "socks.information()\n",
    "books.information()"
   ]
  },
  {
   "cell_type": "code",
   "execution_count": 40,
   "metadata": {},
   "outputs": [],
   "source": [
    "Anna = Member(\"Anna\", 20200420)\n",
    "Grace = Member(\"Grace\", 20200130)"
   ]
  },
  {
   "cell_type": "code",
   "execution_count": 41,
   "metadata": {},
   "outputs": [
    {
     "name": "stdout",
     "output_type": "stream",
     "text": [
      "회원 이름 :  Anna\n",
      "가입 날짜 :  20200420\n",
      "구매 내역 :  []\n",
      "누적 구매금액 :  0\n",
      "회원 이름 :  Grace\n",
      "가입 날짜 :  20200130\n",
      "구매 내역 :  []\n",
      "누적 구매금액 :  0\n"
     ]
    }
   ],
   "source": [
    "Anna.information()\n",
    "Grace.information()"
   ]
  },
  {
   "cell_type": "code",
   "execution_count": 42,
   "metadata": {},
   "outputs": [
    {
     "name": "stdout",
     "output_type": "stream",
     "text": [
      "Anna 고객님이 양말 을 1 개 구매!\n",
      "Grace 고객님이 책 을 2 개 구매!\n"
     ]
    }
   ],
   "source": [
    "Anna.buy(socks, 1)\n",
    "Grace.buy(books, 2)"
   ]
  }
 ],
 "metadata": {
  "kernelspec": {
   "display_name": "Python 3",
   "language": "python",
   "name": "python3"
  },
  "language_info": {
   "codemirror_mode": {
    "name": "ipython",
    "version": 3
   },
   "file_extension": ".py",
   "mimetype": "text/x-python",
   "name": "python",
   "nbconvert_exporter": "python",
   "pygments_lexer": "ipython3",
   "version": "3.11.2"
  },
  "orig_nbformat": 4
 },
 "nbformat": 4,
 "nbformat_minor": 2
}
