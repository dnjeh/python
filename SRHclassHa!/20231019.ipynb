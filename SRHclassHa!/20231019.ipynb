{
 "cells": [
  {
   "cell_type": "code",
   "execution_count": 1,
   "metadata": {},
   "outputs": [
    {
     "name": "stdout",
     "output_type": "stream",
     "text": [
      "34 12\n"
     ]
    }
   ],
   "source": [
    "a, b = 12, 34\n",
    "a, b = b, a\n",
    "print(a, b)"
   ]
  },
  {
   "cell_type": "code",
   "execution_count": 6,
   "metadata": {},
   "outputs": [
    {
     "name": "stdout",
     "output_type": "stream",
     "text": [
      "요소 추가 이전: {}\n",
      "요소 추가 이후: {'작가': '황미나', '연재작': '이오니아의 푸른 별', '최근작': '보톡스'}\n",
      "요소 제거 이후: {'작가': '황미나', '최근작': '보톡스'}\n"
     ]
    }
   ],
   "source": [
    "animation = {}\n",
    "\n",
    "print(\"요소 추가 이전:\", animation)\n",
    "\n",
    "animation[\"작가\"]=\"황미나\"\n",
    "animation[\"연재작\"]=\"이오니아의 푸른 별\"\n",
    "animation[\"최근작\"]=\"보톡스\"\n",
    "print(\"요소 추가 이후:\", animation)\n",
    "\n",
    "del animation[\"연재작\"]\n",
    "print(\"요소 제거 이후:\", animation)"
   ]
  },
  {
   "cell_type": "code",
   "execution_count": 9,
   "metadata": {},
   "outputs": [
    {
     "name": "stdout",
     "output_type": "stream",
     "text": [
      "초록색= green\n",
      "{'빨강': 'red', '주황': 'juhwang', '노': 'yellow', '초': 'green', '남': 'navy', '보': 'purple', '흰': 'white'}\n"
     ]
    }
   ],
   "source": [
    "rainbow = {\"빨강\" : \"red\", \"주황\": \"orange\", \"노\": \"yellow\", \"초\": \"green\", \"파\": \"blue\", \"남\": \"navy\", \"보\": \"purple\"}\n",
    "\n",
    "print(\"초록색=\", rainbow[\"초\"])\n",
    "\n",
    "rainbow[\"흰\"] = \"white\"\n",
    "\n",
    "rainbow[\"주황\"] = \"juhwang\"\n",
    "\n",
    "del rainbow[\"파\"]\n",
    "\n",
    "print(rainbow)"
   ]
  },
  {
   "cell_type": "code",
   "execution_count": 12,
   "metadata": {},
   "outputs": [
    {
     "name": "stdout",
     "output_type": "stream",
     "text": [
      "dict_keys(['boy', 'school', 'book'])\n",
      "dict_values(['소년', '학교', '책'])\n",
      "dict_items([('boy', '소년'), ('school', '학교'), ('book', '책')])\n"
     ]
    }
   ],
   "source": [
    "dic = {\"boy\": \"소년\", \"school\": \"학교\", \"book\": \"책\"}\n",
    "print(dic.keys())\n",
    "print(dic.values())\n",
    "print(dic.items())"
   ]
  },
  {
   "cell_type": "code",
   "execution_count": 16,
   "metadata": {},
   "outputs": [
    {
     "name": "stdout",
     "output_type": "stream",
     "text": [
      "소년\n",
      "학교\n",
      "None\n",
      "사전에 없는 단어입니다\n"
     ]
    }
   ],
   "source": [
    "dic = {\"boy\": \"소년\", \"school\": \"학교\", \"book\": \"책\"}\n",
    "print(dic.get(\"boy\"))\n",
    "print(dic.get(\"school\"))\n",
    "print(dic.get(\"student\"))\n",
    "print(dic.get(\"student\", \"사전에 없는 단어입니다\"))"
   ]
  },
  {
   "cell_type": "code",
   "execution_count": 18,
   "metadata": {},
   "outputs": [
    {
     "name": "stdout",
     "output_type": "stream",
     "text": [
      "boy\n",
      "school\n",
      "book\n"
     ]
    }
   ],
   "source": [
    "for key in dic.keys():\n",
    "    print(key)"
   ]
  },
  {
   "cell_type": "code",
   "execution_count": 19,
   "metadata": {},
   "outputs": [
    {
     "name": "stdout",
     "output_type": "stream",
     "text": [
      "소년\n",
      "학교\n",
      "책\n"
     ]
    }
   ],
   "source": [
    "for value in dic.values():\n",
    "    print(value)"
   ]
  },
  {
   "cell_type": "code",
   "execution_count": 21,
   "metadata": {},
   "outputs": [
    {
     "name": "stdout",
     "output_type": "stream",
     "text": [
      "('boy', '소년')\n",
      "('school', '학교')\n",
      "('book', '책')\n"
     ]
    }
   ],
   "source": [
    "for item in dic.items():\n",
    "    print(item)"
   ]
  },
  {
   "cell_type": "code",
   "execution_count": 23,
   "metadata": {},
   "outputs": [
    {
     "name": "stdout",
     "output_type": "stream",
     "text": [
      "#우리 동네 애완 동물들#\n",
      "구름 5 살\n",
      "초코 3 살\n",
      "아지 1 살\n",
      "호랑이 1 살\n"
     ]
    }
   ],
   "source": [
    "pets=[\n",
    "    {\"name\": \"구름\", \"age\": 5},\n",
    "    {\"name\": \"초코\", \"age\": 3},\n",
    "    {\"name\": \"아지\", \"age\": 1},\n",
    "    {\"name\": \"호랑이\", \"age\": 1},\n",
    "]\n",
    "print(\"#우리 동네 애완 동물들#\")\n",
    "for pet in pets:\n",
    "    print(pet.get(\"name\"), pet.get(\"age\"), \"살\")"
   ]
  },
  {
   "cell_type": "code",
   "execution_count": 30,
   "metadata": {},
   "outputs": [
    {
     "name": "stdout",
     "output_type": "stream",
     "text": [
      "{1: 3, 2: 1, 3: 3, 4: 1, 5: 4, 6: 1, 8: 1, 9: 2, 7: 2}\n"
     ]
    }
   ],
   "source": [
    "numbers = [1,2,3,4,5,6,8,9,5,1,7,3,5,1,3,5,7,9]\n",
    "count={}\n",
    "for n in numbers:\n",
    "    if n in count:\n",
    "        count[n]=count[n]+1\n",
    "    else:\n",
    "        count[n]=1\n",
    "print(count)"
   ]
  },
  {
   "cell_type": "code",
   "execution_count": 31,
   "metadata": {},
   "outputs": [
    {
     "name": "stdout",
     "output_type": "stream",
     "text": [
      "{'b': 3, 'y': 2, 't': 1, 'h': 1, 'e': 2, 'r': 2, 'i': 2, 'v': 1, 's': 1, 'o': 2, 'f': 1, 'a': 1, 'n': 1}\n"
     ]
    }
   ],
   "source": [
    "song = \"by the rivers of babyion\"\n",
    "alphabet = dict()\n",
    "\n",
    "for c in song:\n",
    "    if c.isalpha() == False:\n",
    "        continue\n",
    "    c = c.lower()\n",
    "    if c in alphabet:\n",
    "        alphabet[c] = alphabet[c]+1\n",
    "    else:\n",
    "        alphabet[c] = 1\n",
    "print(alphabet)"
   ]
  },
  {
   "cell_type": "code",
   "execution_count": 33,
   "metadata": {},
   "outputs": [
    {
     "name": "stdout",
     "output_type": "stream",
     "text": [
      "Hello World!\n"
     ]
    }
   ],
   "source": [
    "def Hi():\n",
    "    print(\"Hello World!\")\n",
    "\n",
    "Hi()"
   ]
  },
  {
   "cell_type": "code",
   "execution_count": 37,
   "metadata": {},
   "outputs": [
    {
     "name": "stdout",
     "output_type": "stream",
     "text": [
      "6.0\n"
     ]
    }
   ],
   "source": [
    "def avg(*args):\n",
    "    sum=0\n",
    "    for i in args:\n",
    "        sum+=i\n",
    "    print(sum/len(args))\n",
    "avg(3, 5, 10)"
   ]
  },
  {
   "cell_type": "code",
   "execution_count": 38,
   "metadata": {},
   "outputs": [
    {
     "name": "stdout",
     "output_type": "stream",
     "text": [
      "안녕하세요 즐거운 파이썬 \n",
      "안녕하세요 즐거운 파이썬 \n",
      "즐거운 파이썬 \n"
     ]
    }
   ],
   "source": [
    "def print_n_times(n, *values):\n",
    "    for i in range(n):\n",
    "        for value in values:\n",
    "            print(value, end = ' ')\n",
    "        print()\n",
    "print_n_times(2, \"안녕하세요\", \"즐거운\", \"파이썬\")\n",
    "print_n_times(1, \"즐거운\", \"파이썬\")"
   ]
  },
  {
   "cell_type": "code",
   "execution_count": 39,
   "metadata": {},
   "outputs": [
    {
     "name": "stdout",
     "output_type": "stream",
     "text": [
      "15\n",
      "6\n"
     ]
    }
   ],
   "source": [
    "def add_mul(choice, *args):\n",
    "    if choice == \"add\":\n",
    "        result = 0\n",
    "        for i in args:\n",
    "            result = result + i\n",
    "    elif choice == \"mul\":\n",
    "        result = 1\n",
    "        for i in args:\n",
    "            result = result * i\n",
    "    return result\n",
    "\n",
    "print(add_mul(\"add\", 1, 2, 3, 4, 5))\n",
    "print(add_mul(\"mul\", 1, 2, 3))"
   ]
  },
  {
   "cell_type": "code",
   "execution_count": 40,
   "metadata": {},
   "outputs": [
    {
     "name": "stdout",
     "output_type": "stream",
     "text": [
      "1부터 100까지 숫자 중 2간격씩 더한 값은 2500\n",
      "1부터 100까지 숫자 중 1간격씩 더한 값은 5050\n"
     ]
    }
   ],
   "source": [
    "def calcstep(begin, end, step=1):\n",
    "    sum=0\n",
    "    for num in range(begin, end+1, step):\n",
    "        sum+=num\n",
    "    print(f\"{begin}부터 {end}까지 숫자 중 {step}간격씩 더한 값은 {sum}\")\n",
    "\n",
    "calcstep(1, 100, 2)\n",
    "calcstep(1, 100)"
   ]
  },
  {
   "cell_type": "code",
   "execution_count": 42,
   "metadata": {},
   "outputs": [
    {
     "name": "stdout",
     "output_type": "stream",
     "text": [
      "1 2 3 4 5\n"
     ]
    }
   ],
   "source": [
    "def fn(a, b, c, d, e):\n",
    "    print(a, b, c, d, e)\n",
    "fn(1, 2, d=4, c=3, e=5)"
   ]
  },
  {
   "cell_type": "code",
   "execution_count": 43,
   "metadata": {},
   "outputs": [
    {
     "name": "stdout",
     "output_type": "stream",
     "text": [
      "A위치입니다.\n"
     ]
    }
   ],
   "source": [
    "def test():\n",
    "    print(\"A위치입니다.\")\n",
    "    return\n",
    "    print(\"B위치입니다.\")\n",
    "\n",
    "test()"
   ]
  },
  {
   "cell_type": "code",
   "execution_count": 44,
   "metadata": {},
   "outputs": [
    {
     "name": "stdout",
     "output_type": "stream",
     "text": [
      "최소:-21 최대:89\n"
     ]
    }
   ],
   "source": [
    "def min_max(*args):\n",
    "    min = args[0]\n",
    "    max = args[0]\n",
    "    for arg in args:\n",
    "        if min > arg:\n",
    "            min = arg\n",
    "        if max < arg:\n",
    "            max = arg\n",
    "    return min, max\n",
    "\n",
    "min, max = min_max(52, -3, 23, 89, -21)\n",
    "print(f\"최소:{min} 최대:{max}\")"
   ]
  },
  {
   "cell_type": "code",
   "execution_count": 45,
   "metadata": {},
   "outputs": [
    {
     "name": "stdout",
     "output_type": "stream",
     "text": [
      "현재점수 : 5\n",
      "현재점수 : 10\n",
      "최종점수 : 9\n"
     ]
    }
   ],
   "source": [
    "def reward_penalty(kind, points):\n",
    "    global current_point\n",
    "    print(\"현재점수 :\", current_point)\n",
    "\n",
    "    if kind == \"상점\":\n",
    "        current_point+=points\n",
    "    elif kind == \"벌점\":\n",
    "        current_point-=points\n",
    "\n",
    "current_point = 5\n",
    "reward_penalty(\"상점\", 5)\n",
    "reward_penalty(\"벌점\", 1)\n",
    "print(\"최종점수 :\", current_point)"
   ]
  },
  {
   "cell_type": "code",
   "execution_count": 46,
   "metadata": {},
   "outputs": [],
   "source": [
    "file=open(\"basic.txt\", 'w') \n",
    "file.write(\"Hello Python Programming...!\")\n",
    "file.close() "
   ]
  },
  {
   "cell_type": "code",
   "execution_count": 47,
   "metadata": {},
   "outputs": [],
   "source": [
    "with open(\"basic.txt\", 'w') as file:\n",
    "    file.write(\"Hello Python Programming...!!!\")"
   ]
  },
  {
   "cell_type": "code",
   "execution_count": 48,
   "metadata": {},
   "outputs": [
    {
     "name": "stdout",
     "output_type": "stream",
     "text": [
      "Hello Python Programming...!!!\n"
     ]
    }
   ],
   "source": [
    "with open(\"basic.txt\", 'r') as file:\n",
    "    contents = file.read()\n",
    "print(contents)"
   ]
  },
  {
   "cell_type": "code",
   "execution_count": 52,
   "metadata": {},
   "outputs": [],
   "source": [
    "import random\n",
    "\n",
    "hanguls = list(\"가나다라마바사아자차카타파하\")\n",
    "\n",
    "with open(\"info.txt\", \"w\") as file:\n",
    "    for i in range(50):\n",
    "        name = random.choice(hanguls) + random.choice(hanguls) + random.choice(hanguls)\n",
    "        weight = random.randrange(40, 100)\n",
    "        height = random.randrange(140, 200)\n",
    "        file.write(f\"{name},{weight},{height}\\n\")"
   ]
  },
  {
   "cell_type": "code",
   "execution_count": 77,
   "metadata": {},
   "outputs": [
    {
     "name": "stdout",
     "output_type": "stream",
     "text": [
      "이름: 사자사\n",
      "몸무게: 80\n",
      "키: 158\n",
      "BMI: 32.046146450889275\n",
      "\n",
      "이름: 다나카\n",
      "몸무게: 67\n",
      "키: 167\n",
      "BMI: 24.023808670084982\n",
      "\n",
      "이름: 사마라\n",
      "몸무게: 88\n",
      "키: 155\n",
      "BMI: 36.628511966701346\n",
      "\n",
      "이름: 하마바\n",
      "몸무게: 77\n",
      "키: 160\n",
      "BMI: 30.078124999999993\n",
      "\n",
      "이름: 타차차\n",
      "몸무게: 87\n",
      "키: 144\n",
      "BMI: 41.95601851851852\n",
      "\n",
      "이름: 마타다\n",
      "몸무게: 98\n",
      "키: 144\n",
      "BMI: 47.260802469135804\n",
      "\n",
      "이름: 아파타\n",
      "몸무게: 94\n",
      "키: 171\n",
      "BMI: 32.14664341164803\n",
      "\n",
      "이름: 차아하\n",
      "몸무게: 69\n",
      "키: 162\n",
      "BMI: 26.291723822588015\n",
      "\n",
      "이름: 바파파\n",
      "몸무게: 42\n",
      "키: 150\n",
      "BMI: 18.666666666666668\n",
      "\n",
      "이름: 차사가\n",
      "몸무게: 95\n",
      "키: 171\n",
      "BMI: 32.488628979857054\n",
      "\n",
      "이름: 사하아\n",
      "몸무게: 80\n",
      "키: 154\n",
      "BMI: 33.732501264968796\n",
      "\n",
      "이름: 나마카\n",
      "몸무게: 40\n",
      "키: 179\n",
      "BMI: 12.484004868761899\n",
      "\n",
      "이름: 라하마\n",
      "몸무게: 89\n",
      "키: 145\n",
      "BMI: 42.33055885850178\n",
      "\n",
      "이름: 타바라\n",
      "몸무게: 60\n",
      "키: 182\n",
      "BMI: 18.11375437749064\n",
      "\n",
      "이름: 카마하\n",
      "몸무게: 93\n",
      "키: 147\n",
      "BMI: 43.03762321255033\n",
      "\n",
      "이름: 사바다\n",
      "몸무게: 50\n",
      "키: 144\n",
      "BMI: 24.112654320987655\n",
      "\n",
      "이름: 아하마\n",
      "몸무게: 41\n",
      "키: 183\n",
      "BMI: 12.242826002568005\n",
      "\n",
      "이름: 다아나\n",
      "몸무게: 74\n",
      "키: 176\n",
      "BMI: 23.889462809917354\n",
      "\n",
      "이름: 아아나\n",
      "몸무게: 67\n",
      "키: 193\n",
      "BMI: 17.9870600553035\n",
      "\n",
      "이름: 파라가\n",
      "몸무게: 50\n",
      "키: 196\n",
      "BMI: 13.015410245730946\n",
      "\n",
      "이름: 아나카\n",
      "몸무게: 59\n",
      "키: 166\n",
      "BMI: 21.410944984758313\n",
      "\n",
      "이름: 타나아\n",
      "몸무게: 49\n",
      "키: 165\n",
      "BMI: 17.99816345270891\n",
      "\n",
      "이름: 아가아\n",
      "몸무게: 44\n",
      "키: 160\n",
      "BMI: 17.187499999999996\n",
      "\n",
      "이름: 차사나\n",
      "몸무게: 87\n",
      "키: 168\n",
      "BMI: 30.824829931972793\n",
      "\n",
      "이름: 하라카\n",
      "몸무게: 68\n",
      "키: 194\n",
      "BMI: 18.067807418429165\n",
      "\n",
      "이름: 다차하\n",
      "몸무게: 73\n",
      "키: 162\n",
      "BMI: 27.815881725346742\n",
      "\n",
      "이름: 카아차\n",
      "몸무게: 76\n",
      "키: 175\n",
      "BMI: 24.816326530612244\n",
      "\n",
      "이름: 나마하\n",
      "몸무게: 62\n",
      "키: 150\n",
      "BMI: 27.555555555555557\n",
      "\n",
      "이름: 카라바\n",
      "몸무게: 50\n",
      "키: 164\n",
      "BMI: 18.590124925639504\n",
      "\n",
      "이름: 다자타\n",
      "몸무게: 46\n",
      "키: 192\n",
      "BMI: 12.47829861111111\n",
      "\n",
      "이름: 타파타\n",
      "몸무게: 94\n",
      "키: 144\n",
      "BMI: 45.33179012345679\n",
      "\n",
      "이름: 다자타\n",
      "몸무게: 53\n",
      "키: 149\n",
      "BMI: 23.872798522589072\n",
      "\n",
      "이름: 바자하\n",
      "몸무게: 62\n",
      "키: 194\n",
      "BMI: 16.473589116803062\n",
      "\n",
      "이름: 아파하\n",
      "몸무게: 42\n",
      "키: 164\n",
      "BMI: 15.615704937537183\n",
      "\n",
      "이름: 바바카\n",
      "몸무게: 92\n",
      "키: 185\n",
      "BMI: 26.880934989043094\n",
      "\n",
      "이름: 나차라\n",
      "몸무게: 92\n",
      "키: 195\n",
      "BMI: 24.194608809993426\n",
      "\n",
      "이름: 차차파\n",
      "몸무게: 76\n",
      "키: 156\n",
      "BMI: 31.22945430637738\n",
      "\n",
      "이름: 하파파\n",
      "몸무게: 73\n",
      "키: 177\n",
      "BMI: 23.301094832264035\n",
      "\n",
      "이름: 타하나\n",
      "몸무게: 92\n",
      "키: 149\n",
      "BMI: 41.4395747939282\n",
      "\n",
      "이름: 아차다\n",
      "몸무게: 96\n",
      "키: 196\n",
      "BMI: 24.989587671803417\n",
      "\n",
      "이름: 다카나\n",
      "몸무게: 91\n",
      "키: 151\n",
      "BMI: 39.91053023990176\n",
      "\n",
      "이름: 카파라\n",
      "몸무게: 87\n",
      "키: 174\n",
      "BMI: 28.735632183908045\n",
      "\n",
      "이름: 차바파\n",
      "몸무게: 46\n",
      "키: 145\n",
      "BMI: 21.87871581450654\n",
      "\n",
      "이름: 마마차\n",
      "몸무게: 76\n",
      "키: 169\n",
      "BMI: 26.609712545078956\n",
      "\n",
      "이름: 바마사\n",
      "몸무게: 81\n",
      "키: 172\n",
      "BMI: 27.379664683612766\n",
      "\n",
      "이름: 라차마\n",
      "몸무게: 97\n",
      "키: 156\n",
      "BMI: 39.85864562787639\n",
      "\n",
      "이름: 차바마\n",
      "몸무게: 58\n",
      "키: 194\n",
      "BMI: 15.410776915718992\n",
      "\n",
      "이름: 바나가\n",
      "몸무게: 40\n",
      "키: 182\n",
      "BMI: 12.075836251660427\n",
      "\n",
      "이름: 라라자\n",
      "몸무게: 76\n",
      "키: 184\n",
      "BMI: 22.448015122873343\n",
      "\n",
      "이름: 파파하\n",
      "몸무게: 70\n",
      "키: 142\n",
      "BMI: 34.71533425907558\n",
      "\n"
     ]
    }
   ],
   "source": [
    "with open(\"info.txt\", \"r\") as file:\n",
    "    for line in file:\n",
    "        #name, weight, height = tuple(line.split(','[0:1]) + [int(x) for x in line.split(',')[1:]])\n",
    "        name, weight, height = line.strip().split(',')\n",
    "        bmi = int(weight) / (int(height)/100)**2\n",
    "        print(\"\\n\".join([\n",
    "            \"이름: {}\",\n",
    "            \"몸무게: {}\",\n",
    "            \"키: {}\",\n",
    "            \"BMI: {}\"\n",
    "        ]).format(name, weight, height, bmi))\n",
    "        print()"
   ]
  },
  {
   "cell_type": "code",
   "execution_count": 86,
   "metadata": {},
   "outputs": [],
   "source": [
    "class Character:\n",
    "    def __init__(this, name, hp, ad):\n",
    "        this.name = name\n",
    "        this.hp = int(hp)\n",
    "        this.ad = int(ad)\n",
    "        print(\"객체 생성 :\", this.name)\n",
    "    def information(this):\n",
    "        print(this.name, this.hp, this.ad)\n",
    "    def attack(this, you):\n",
    "        print(this.name+\"이/가\", you.name+\"을 공격합니다.\")\n",
    "        print(\"공격성공!\"+you.name+\"(남은채력:\"+str(you.hp-this.ad)+')')\n",
    "        you.hp-=this.ad"
   ]
  },
  {
   "cell_type": "code",
   "execution_count": 87,
   "metadata": {},
   "outputs": [
    {
     "name": "stdout",
     "output_type": "stream",
     "text": [
      "객체 생성 : 검술사\n",
      "객체 생성 : 요정\n",
      "객체 생성 : 도적\n"
     ]
    }
   ],
   "source": [
    "swordsman = Character(\"검술사\", 100, 10)\n",
    "fairy = Character(\"요정\", 60, 5)\n",
    "thief = Character(\"도적\", 85, 8)"
   ]
  },
  {
   "cell_type": "code",
   "execution_count": 88,
   "metadata": {},
   "outputs": [
    {
     "name": "stdout",
     "output_type": "stream",
     "text": [
      "검술사이/가 요정을 공격합니다.\n",
      "공격성공!요정(남은채력:50)\n",
      "도적이/가 요정을 공격합니다.\n",
      "공격성공!요정(남은채력:42)\n"
     ]
    }
   ],
   "source": [
    "swordsman.attack(fairy)\n",
    "thief.attack(fairy)"
   ]
  }
 ],
 "metadata": {
  "kernelspec": {
   "display_name": "Python 3",
   "language": "python",
   "name": "python3"
  },
  "language_info": {
   "codemirror_mode": {
    "name": "ipython",
    "version": 3
   },
   "file_extension": ".py",
   "mimetype": "text/x-python",
   "name": "python",
   "nbconvert_exporter": "python",
   "pygments_lexer": "ipython3",
   "version": "3.11.2"
  },
  "orig_nbformat": 4
 },
 "nbformat": 4,
 "nbformat_minor": 2
}
