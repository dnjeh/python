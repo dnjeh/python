{
 "cells": [
  {
   "cell_type": "markdown",
   "metadata": {},
   "source": [
    "#### enumerate(): 리스트의 요소를 반복할 때, 현재 인덱스가 몇 번째인지 확인해야 하는 경우"
   ]
  },
  {
   "cell_type": "code",
   "execution_count": 5,
   "metadata": {},
   "outputs": [
    {
     "name": "stdout",
     "output_type": "stream",
     "text": [
      "['요소1', '요소2', '요소3']\n",
      "\n",
      "<enumerate object at 0x000001F362E6A390>\n",
      "\n",
      "[(0, '요소1'), (1, '요소2'), (2, '요소3')]\n",
      "\n",
      "0번째 요소는 요소1\n",
      "1번째 요소는 요소2\n",
      "2번째 요소는 요소3\n"
     ]
    }
   ],
   "source": [
    "#변수 선언\n",
    "ex_list = [\"요소1\", \"요소2\", \"요소3\"]\n",
    "\n",
    "#출력\n",
    "print(ex_list)\n",
    "print()\n",
    "\n",
    "#enumerate()함수 적용시..\n",
    "print(enumerate(ex_list))\n",
    "print()\n",
    "\n",
    "#enumerate()함수를 리스트로 바꾼다면..\n",
    "print(list(enumerate(ex_list)))\n",
    "print()\n",
    "\n",
    "#실제로 사용해보자!\n",
    "for i, value in enumerate(ex_list):\n",
    "    print(\"{}번째 요소는 {}\".format(i, value))"
   ]
  },
  {
   "cell_type": "code",
   "execution_count": 6,
   "metadata": {},
   "outputs": [],
   "source": [
    "olympic =[\n",
    "          [1,'미국',46,37,38,121],\n",
    "          [2,'영국',27,23,17,67],\n",
    "          [3,'중국',26,18,26,70],\n",
    "          [4,'러시아',19,18,19,56],\n",
    "          [5,'독일',17,10,15,42],\n",
    "          [6,'일본',12,8,21,41],\n",
    "          [7,'프랑스',10,18,14,42],\n",
    "          [8,'대한민국',9,3,9,21] \n",
    "        ]"
   ]
  },
  {
   "cell_type": "code",
   "execution_count": 7,
   "metadata": {},
   "outputs": [
    {
     "name": "stdout",
     "output_type": "stream",
     "text": [
      "[1, '미국', 46, 37, 38, 121]\n"
     ]
    }
   ],
   "source": [
    "print(olympic[0])"
   ]
  },
  {
   "cell_type": "code",
   "execution_count": 8,
   "metadata": {},
   "outputs": [
    {
     "name": "stdout",
     "output_type": "stream",
     "text": [
      "미국\n"
     ]
    }
   ],
   "source": [
    "print(olympic[0][1])"
   ]
  },
  {
   "cell_type": "code",
   "execution_count": 22,
   "metadata": {},
   "outputs": [
    {
     "name": "stdout",
     "output_type": "stream",
     "text": [
      "['미국', '영국', '중국', '러시아', '독일', '일본', '프랑스', '대한민국']\n"
     ]
    }
   ],
   "source": [
    "nation = []\n",
    "for i in olympic:\n",
    "    nation.append(i[1])\n",
    "print(nation)"
   ]
  },
  {
   "cell_type": "code",
   "execution_count": 23,
   "metadata": {},
   "outputs": [
    {
     "name": "stdout",
     "output_type": "stream",
     "text": [
      "[46, 27, 26, 19, 17, 12, 10, 9]\n"
     ]
    }
   ],
   "source": [
    "#나라별 금메달 개수 리스트 만들기\n",
    "gold = []\n",
    "for i in olympic:\n",
    "    gold.append(i[2])\n",
    "print(gold)"
   ]
  },
  {
   "cell_type": "code",
   "execution_count": 24,
   "metadata": {},
   "outputs": [
    {
     "name": "stdout",
     "output_type": "stream",
     "text": [
      "[37, 23, 18, 18, 10, 8, 18, 3]\n"
     ]
    }
   ],
   "source": [
    "#나라별 은메달 개수 리스트 만들기\n",
    "silver = []\n",
    "for i in olympic:\n",
    "    silver.append(i[3])\n",
    "print(silver)"
   ]
  },
  {
   "cell_type": "code",
   "execution_count": 25,
   "metadata": {},
   "outputs": [
    {
     "name": "stdout",
     "output_type": "stream",
     "text": [
      "[38, 17, 26, 19, 15, 21, 14, 9]\n"
     ]
    }
   ],
   "source": [
    "#나라별 동메달 개수 리스트 만들기\n",
    "bronze = []\n",
    "for i in olympic:\n",
    "    bronze.append(i[4])\n",
    "print(bronze)"
   ]
  },
  {
   "cell_type": "markdown",
   "metadata": {},
   "source": [
    "#"
   ]
  },
  {
   "cell_type": "code",
   "execution_count": 47,
   "metadata": {},
   "outputs": [
    {
     "name": "stdout",
     "output_type": "stream",
     "text": [
      "c:\\Users\\ROBOT\\AppData\\Local\\Programs\\Python\\Python311\\Lib\\site-packages\\matplotlib\\mpl-data\\matplotlibrc\n",
      "C:\\Users\\ROBOT\\.matplotlib\n"
     ]
    }
   ],
   "source": [
    "import matplotlib as mpl\n",
    "print(mpl.matplotlib_fname())\n",
    "print(mpl.get_cachedir())\n",
    "\n",
    "import matplotlib.pyplot as plt\n",
    "\n",
    "plt.rc('font', family='NanumBarunGothic')"
   ]
  },
  {
   "cell_type": "markdown",
   "metadata": {},
   "source": [
    "#"
   ]
  },
  {
   "cell_type": "code",
   "execution_count": null,
   "metadata": {},
   "outputs": [],
   "source": [
    "!sudo apt-get install -y fonts-nanum\n",
    "!sudo fc-cache -fv\n",
    "!rm ~/.cache/matplotlib -rf\n",
    "\n",
    "import matplotlib.pyplot as plt\n",
    "\n",
    "plt.rc('font', family='NanumBarunGothic')"
   ]
  },
  {
   "cell_type": "code",
   "execution_count": null,
   "metadata": {},
   "outputs": [],
   "source": [
    "#나라별 금메달 개수 그래프 그리기\n",
    "%pip install matplotlib\n",
    "import matplotlib.pyplot as plt\n",
    "\n",
    "plt.title(\"나라별 금메달 갯수\")\n",
    "plt.plot(nation, gold, color=\"gold\", label=\"gold\")\n",
    "plt.legend()\n",
    "plt.show()"
   ]
  },
  {
   "cell_type": "code",
   "execution_count": null,
   "metadata": {},
   "outputs": [],
   "source": [
    "#나라별 은메달 개수 그래프 그리기\n",
    "%pip install matplotlib\n",
    "import matplotlib.pyplot as plt\n",
    "\n",
    "plt.title(\"나라별 은메달 갯수\")\n",
    "plt.plot(nation, silver, color=\"silver\", label=\"silver\")\n",
    "plt.legend()\n",
    "plt.show()"
   ]
  },
  {
   "cell_type": "code",
   "execution_count": null,
   "metadata": {},
   "outputs": [],
   "source": [
    "#나라별 금메달 개수 그래프 그리기\n",
    "%pip install matplotlib\n",
    "import matplotlib.pyplot as plt\n",
    "\n",
    "plt.title(\"나라별 은메달 갯수\")\n",
    "plt.plot(nation, bronze, color=\"brown\", label=\"bronze\")\n",
    "plt.legend()\n",
    "plt.show()"
   ]
  }
 ],
 "metadata": {
  "kernelspec": {
   "display_name": "Python 3",
   "language": "python",
   "name": "python3"
  },
  "language_info": {
   "codemirror_mode": {
    "name": "ipython",
    "version": 3
   },
   "file_extension": ".py",
   "mimetype": "text/x-python",
   "name": "python",
   "nbconvert_exporter": "python",
   "pygments_lexer": "ipython3",
   "version": "3.11.2"
  },
  "orig_nbformat": 4
 },
 "nbformat": 4,
 "nbformat_minor": 2
}
