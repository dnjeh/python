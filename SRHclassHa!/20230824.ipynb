{
 "cells": [
  {
   "cell_type": "code",
   "execution_count": 2,
   "metadata": {},
   "outputs": [
    {
     "name": "stdout",
     "output_type": "stream",
     "text": [
      "Hello World~!!!\n"
     ]
    }
   ],
   "source": [
    "print(\"Hello World~!!!\")"
   ]
  },
  {
   "cell_type": "markdown",
   "metadata": {},
   "source": [
    "##### p30_ex1"
   ]
  },
  {
   "cell_type": "code",
   "execution_count": 3,
   "metadata": {},
   "outputs": [
    {
     "name": "stdout",
     "output_type": "stream",
     "text": [
      "Hello world!\n",
      "Hello world!\n"
     ]
    }
   ],
   "source": [
    "#p30_ex1-1\n",
    "def Hi():\n",
    "    print(\"Hello world!\")\n",
    "\n",
    "Hi()\n",
    "Hi()"
   ]
  },
  {
   "cell_type": "code",
   "execution_count": 12,
   "metadata": {},
   "outputs": [
    {
     "name": "stdout",
     "output_type": "stream",
     "text": [
      "*\n",
      "**\n",
      "***\n",
      "****\n",
      "*****\n"
     ]
    }
   ],
   "source": [
    "#p30_ex1-2\n",
    "def triangle():\n",
    "    for i in range(1, 6):\n",
    "        for j in range(i):\n",
    "            print('*', end='')\n",
    "        print('')\n",
    "\n",
    "triangle()"
   ]
  },
  {
   "cell_type": "markdown",
   "metadata": {},
   "source": [
    "##### p30_ex2"
   ]
  },
  {
   "cell_type": "code",
   "execution_count": 10,
   "metadata": {},
   "outputs": [
    {
     "name": "stdout",
     "output_type": "stream",
     "text": [
      "내 이름은 채송화야. 만나서 반가워\n",
      "내 이름은 아이유야. 만나서 반가워\n"
     ]
    }
   ],
   "source": [
    "#p30_ex2-1\n",
    "def name(name):\n",
    "    print(f\"내 이름은 {name}야. 만나서 반가워\")\n",
    "\n",
    "name(\"채송화\")\n",
    "name(\"아이유\")"
   ]
  },
  {
   "cell_type": "code",
   "execution_count": 11,
   "metadata": {},
   "outputs": [
    {
     "name": "stdout",
     "output_type": "stream",
     "text": [
      "홀수\n"
     ]
    }
   ],
   "source": [
    "#p30_ex2-2\n",
    "def even(a):\n",
    "    if a%2 == 0:\n",
    "        print(\"짝수\")\n",
    "    else:\n",
    "        print(\"홀수\")\n",
    "\n",
    "even(11)"
   ]
  },
  {
   "cell_type": "code",
   "execution_count": null,
   "metadata": {},
   "outputs": [],
   "source": [
    "#p30_ex2-3\n",
    "def triangle(n):\n",
    "    for i in range(n):\n",
    "        for j in range(i+1):\n",
    "            print('*', end='')\n",
    "        print('')\n",
    "\n",
    "triangle(3)"
   ]
  },
  {
   "cell_type": "markdown",
   "metadata": {},
   "source": [
    "##### p30_ex3"
   ]
  },
  {
   "cell_type": "code",
   "execution_count": 13,
   "metadata": {},
   "outputs": [
    {
     "name": "stdout",
     "output_type": "stream",
     "text": [
      "안녕하세요\n",
      "안녕하세요\n",
      "반가워요\n",
      "반가워요\n",
      "반가워요\n"
     ]
    }
   ],
   "source": [
    "def print_n_times(value, n):\n",
    "    for i in range(n):\n",
    "        print(value)\n",
    "\n",
    "print_n_times(\"안녕하세요\", 2)\n",
    "print_n_times(\"반가워요\", 3)"
   ]
  },
  {
   "cell_type": "markdown",
   "metadata": {},
   "source": [
    "##### p30_ex4"
   ]
  },
  {
   "cell_type": "code",
   "execution_count": 14,
   "metadata": {},
   "outputs": [
    {
     "name": "stdout",
     "output_type": "stream",
     "text": [
      "6.0\n"
     ]
    }
   ],
   "source": [
    "def avg(a, b, c):\n",
    "    sum = a+b+c\n",
    "    print(sum/3)\n",
    "\n",
    "avg(3, 5, 10)"
   ]
  },
  {
   "cell_type": "markdown",
   "metadata": {},
   "source": [
    "##### p30_ex5"
   ]
  },
  {
   "cell_type": "code",
   "execution_count": 15,
   "metadata": {},
   "outputs": [
    {
     "name": "stdout",
     "output_type": "stream",
     "text": [
      "1 번째 주사위 굴린 결과 :  5\n",
      "2 번째 주사위 굴린 결과 :  5\n",
      "3 번째 주사위 굴린 결과 :  1\n",
      "4 번째 주사위 굴린 결과 :  1\n",
      "5 번째 주사위 굴린 결과 :  3\n",
      "6 번째 주사위 굴린 결과 :  4\n"
     ]
    }
   ],
   "source": [
    "import random\n",
    "\n",
    "def dice_n_times(n):\n",
    "    for i in range(n):\n",
    "        k=random.randint(1, 6)\n",
    "        print(i+1, \"번째 주사위 굴린 결과 : \", k)\n",
    "\n",
    "dice_n_times(6)"
   ]
  },
  {
   "cell_type": "markdown",
   "metadata": {},
   "source": [
    "##### p30_ex6"
   ]
  },
  {
   "cell_type": "code",
   "execution_count": 16,
   "metadata": {},
   "outputs": [
    {
     "name": "stdout",
     "output_type": "stream",
     "text": [
      "6\n",
      "45\n",
      "54\n"
     ]
    }
   ],
   "source": [
    "def intsum(*ints):\n",
    "    sum=0\n",
    "    for i in ints:\n",
    "        sum+=i\n",
    "    return sum\n",
    "\n",
    "print(intsum(1,2,3))\n",
    "print(intsum(5,7,9,11,13))\n",
    "print(intsum(8,9,6,2,9,7,5,8))"
   ]
  },
  {
   "cell_type": "markdown",
   "metadata": {},
   "source": [
    "##### p30_ex7"
   ]
  },
  {
   "cell_type": "code",
   "execution_count": 17,
   "metadata": {},
   "outputs": [
    {
     "name": "stdout",
     "output_type": "stream",
     "text": [
      "안녕하세요 즐거운 파이썬 \n",
      "안녕하세요 즐거운 파이썬 \n",
      "안녕하세요 즐거운 파이썬 \n"
     ]
    }
   ],
   "source": [
    "def print_n_times(n, *values):\n",
    "    for i in range(n):\n",
    "        for value in values:\n",
    "            print(value, end=' ')\n",
    "        print()\n",
    "\n",
    "print_n_times(3, \"안녕하세요\", \"즐거운\", \"파이썬\")"
   ]
  },
  {
   "cell_type": "markdown",
   "metadata": {},
   "source": [
    "##### p30_ex8"
   ]
  },
  {
   "cell_type": "code",
   "execution_count": 18,
   "metadata": {},
   "outputs": [
    {
     "name": "stdout",
     "output_type": "stream",
     "text": [
      "15\n",
      "120\n"
     ]
    }
   ],
   "source": [
    "def add_mul(choice, *args):\n",
    "    if choice == \"add\":\n",
    "        result = 0\n",
    "        for i in args:\n",
    "            result+=i\n",
    "    elif choice == \"mul\":\n",
    "        result = 1\n",
    "        for i in args:\n",
    "            result*=i\n",
    "    return result\n",
    "\n",
    "print(add_mul(\"add\", 1, 2, 3, 4 ,5))\n",
    "print(add_mul(\"mul\", 1, 2, 3, 4 ,5))"
   ]
  },
  {
   "cell_type": "markdown",
   "metadata": {},
   "source": [
    "##### p30_ex9"
   ]
  },
  {
   "cell_type": "code",
   "execution_count": 19,
   "metadata": {},
   "outputs": [
    {
     "name": "stdout",
     "output_type": "stream",
     "text": [
      "***\n",
      "*****\n",
      "**\n"
     ]
    }
   ],
   "source": [
    "def star(a, *args):\n",
    "    for i in args:\n",
    "        for j in range(int(i)):\n",
    "            print(a, end='')\n",
    "        print()\n",
    "\n",
    "star('*', 3, 5, 2)"
   ]
  },
  {
   "cell_type": "markdown",
   "metadata": {},
   "source": [
    "##### p30_ex10"
   ]
  },
  {
   "cell_type": "code",
   "execution_count": 21,
   "metadata": {},
   "outputs": [
    {
     "name": "stdout",
     "output_type": "stream",
     "text": [
      "안녕하세요\n",
      "안녕하세요\n",
      "안녕히 가세요\n",
      "안녕히 가세요\n",
      "안녕히 가세요\n"
     ]
    }
   ],
   "source": [
    "def print_n_times(value, n=2):\n",
    "    for i in range(n):\n",
    "        print(value)\n",
    "\n",
    "print_n_times(\"안녕하세요\")\n",
    "print_n_times(\"안녕히 가세요\", 3)"
   ]
  },
  {
   "cell_type": "markdown",
   "metadata": {},
   "source": [
    "##### p30_ex11"
   ]
  },
  {
   "cell_type": "code",
   "execution_count": 23,
   "metadata": {},
   "outputs": [
    {
     "name": "stdout",
     "output_type": "stream",
     "text": [
      "1부터 100까지 숫자 중 1간격씩 더한 값은 5050\n",
      "1부터 100까지 숫자 중 1간격씩 더한 값은 5050\n"
     ]
    }
   ],
   "source": [
    "def calcstep(begin, end, step=1):\n",
    "    sum = 0\n",
    "    for num in range(begin, end+1, step):\n",
    "        sum+=num\n",
    "    print(\"{}부터 {}까지 숫자 중 {}간격씩 더한 값은\".format(begin, end, step), end=' ')\n",
    "    return sum\n",
    "\n",
    "print(calcstep(1, 100, 1))\n",
    "print(calcstep(1, 100))"
   ]
  },
  {
   "cell_type": "markdown",
   "metadata": {},
   "source": [
    "##### p30_ex12"
   ]
  },
  {
   "cell_type": "code",
   "execution_count": 25,
   "metadata": {},
   "outputs": [
    {
     "name": "stdout",
     "output_type": "stream",
     "text": [
      "1 2 3 4 5\n",
      "1 2 3 4 5\n",
      "1 2 3 4 5\n",
      "1 2 3 4 5\n"
     ]
    }
   ],
   "source": [
    "# p30_ex12-1\n",
    "def fn(a,b,c,d,e):\n",
    "    print(a,b,c,d,e)\n",
    "\n",
    "fn(1,2,3,4,5)\n",
    "fn(a=1, b=2, c=3, d=4, e=5)\n",
    "fn(e=5, c=3, b=2, a=1, d=4)\n",
    "fn(1,2,d=4,c=3,e=5)"
   ]
  },
  {
   "cell_type": "code",
   "execution_count": 26,
   "metadata": {},
   "outputs": [
    {
     "ename": "SyntaxError",
     "evalue": "positional argument follows keyword argument (2940701617.py, line 2)",
     "output_type": "error",
     "traceback": [
      "\u001b[1;36m  Cell \u001b[1;32mIn[26], line 2\u001b[1;36m\u001b[0m\n\u001b[1;33m    fn(d=4, e=5, 1, 2, 3)\u001b[0m\n\u001b[1;37m                        ^\u001b[0m\n\u001b[1;31mSyntaxError\u001b[0m\u001b[1;31m:\u001b[0m positional argument follows keyword argument\n"
     ]
    }
   ],
   "source": [
    "# p30_ex12-2\n",
    "fn(d=4, e=5, 1, 2, 3)"
   ]
  },
  {
   "cell_type": "code",
   "execution_count": 27,
   "metadata": {},
   "outputs": [
    {
     "ename": "SyntaxError",
     "evalue": "positional argument follows keyword argument (15136494.py, line 5)",
     "output_type": "error",
     "traceback": [
      "\u001b[1;36m  Cell \u001b[1;32mIn[27], line 5\u001b[1;36m\u001b[0m\n\u001b[1;33m    fn(c=3,b=2,a=1,4,5)\u001b[0m\n\u001b[1;37m                      ^\u001b[0m\n\u001b[1;31mSyntaxError\u001b[0m\u001b[1;31m:\u001b[0m positional argument follows keyword argument\n"
     ]
    }
   ],
   "source": [
    "# p30_ex12-3\n",
    "def fn(a,b,c,*d):\n",
    "    print(a,b,c,d)\n",
    "\n",
    "fn(c=3,b=2,a=1,4,5)\n",
    "fn(1,2,c=3,4,5)\n",
    "fn(4,5,a=1,b=2,c=3)"
   ]
  },
  {
   "cell_type": "markdown",
   "metadata": {},
   "source": [
    "##### p30_ex13"
   ]
  },
  {
   "cell_type": "code",
   "execution_count": 28,
   "metadata": {},
   "outputs": [
    {
     "name": "stdout",
     "output_type": "stream",
     "text": [
      "A위치입니다.\n"
     ]
    }
   ],
   "source": [
    "#p30_ex13-1\n",
    "def return_test():\n",
    "    print(\"A위치입니다.\")\n",
    "    return\n",
    "    print(\"B위치입니다.\")\n",
    "\n",
    "return_test()"
   ]
  },
  {
   "cell_type": "code",
   "execution_count": 29,
   "metadata": {},
   "outputs": [
    {
     "name": "stdout",
     "output_type": "stream",
     "text": [
      "100\n"
     ]
    }
   ],
   "source": [
    "#p30_ex13-2\n",
    "def return_test():\n",
    "    return 100\n",
    "\n",
    "value = return_test()\n",
    "print(value)"
   ]
  },
  {
   "cell_type": "markdown",
   "metadata": {},
   "source": [
    "##### p30_ex14"
   ]
  },
  {
   "cell_type": "code",
   "execution_count": 30,
   "metadata": {},
   "outputs": [
    {
     "name": "stdout",
     "output_type": "stream",
     "text": [
      "423\n"
     ]
    }
   ],
   "source": [
    "def add(a, b):\n",
    "    return a+b\n",
    "\n",
    "value = add(123, 300)\n",
    "print(value)"
   ]
  },
  {
   "cell_type": "markdown",
   "metadata": {},
   "source": [
    "##### p30_ex15"
   ]
  },
  {
   "cell_type": "code",
   "execution_count": 31,
   "metadata": {},
   "outputs": [
    {
     "name": "stdout",
     "output_type": "stream",
     "text": [
      "11\n"
     ]
    }
   ],
   "source": [
    "def big(a, b):\n",
    "    if a>b:\n",
    "        return a\n",
    "    else:\n",
    "        return b\n",
    "    \n",
    "value = big(5, 11)\n",
    "print(value)"
   ]
  },
  {
   "cell_type": "markdown",
   "metadata": {},
   "source": [
    "##### p30_ex16"
   ]
  },
  {
   "cell_type": "code",
   "execution_count": 32,
   "metadata": {},
   "outputs": [
    {
     "data": {
      "text/plain": [
       "5050"
      ]
     },
     "execution_count": 32,
     "metadata": {},
     "output_type": "execute_result"
    }
   ],
   "source": [
    "def sum_to_n(n):\n",
    "    sum=0\n",
    "    for i in range(1, n+1):\n",
    "        sum+=i\n",
    "    return sum\n",
    "\n",
    "sum_to_n(100)"
   ]
  },
  {
   "cell_type": "markdown",
   "metadata": {},
   "source": [
    "##### p30_ex17"
   ]
  },
  {
   "cell_type": "code",
   "execution_count": 33,
   "metadata": {},
   "outputs": [
    {
     "name": "stdout",
     "output_type": "stream",
     "text": [
      "최소값: 2\n"
     ]
    }
   ],
   "source": [
    "def min(*numbers):\n",
    "    min_value = numbers[0]\n",
    "    for num in numbers:\n",
    "        if min_value > num:\n",
    "            min_value = num\n",
    "    return min_value\n",
    "\n",
    "result = min(5,2,7,4)\n",
    "print(\"최소값:\", result)"
   ]
  },
  {
   "cell_type": "markdown",
   "metadata": {},
   "source": [
    "##### p30_ex18"
   ]
  },
  {
   "cell_type": "code",
   "execution_count": 36,
   "metadata": {},
   "outputs": [
    {
     "name": "stdout",
     "output_type": "stream",
     "text": [
      "[17, 34, 51, 68, 85, 102, 119, 136, 153, 170, 187]\n"
     ]
    }
   ],
   "source": [
    "def multi_num(num, start, end):\n",
    "    result = []\n",
    "    for n in range(start, end):\n",
    "        if n%num==0:\n",
    "            result.append(n)\n",
    "    return result\n",
    "\n",
    "mult = multi_num(17, 1, 200)\n",
    "print(mult)"
   ]
  },
  {
   "cell_type": "markdown",
   "metadata": {},
   "source": [
    "##### p30_ex19"
   ]
  },
  {
   "cell_type": "code",
   "execution_count": 37,
   "metadata": {},
   "outputs": [
    {
     "name": "stdout",
     "output_type": "stream",
     "text": [
      "최소:-21 최대:89\n"
     ]
    }
   ],
   "source": [
    "def min_max(*args):\n",
    "    min = args[0]\n",
    "    max = args[0]\n",
    "    for arg in args:\n",
    "        if min>arg:\n",
    "            min=arg\n",
    "        if max<arg:\n",
    "            max=arg\n",
    "    return min, max\n",
    "\n",
    "min, max = min_max(52, -3, 23, 89, -21)\n",
    "print(f\"최소:{min} 최대:{max}\")"
   ]
  },
  {
   "cell_type": "markdown",
   "metadata": {},
   "source": [
    "##### p30_ex20"
   ]
  },
  {
   "cell_type": "code",
   "execution_count": 39,
   "metadata": {},
   "outputs": [
    {
     "name": "stdout",
     "output_type": "stream",
     "text": [
      "3-2반\n",
      "04번\t20번\t19번\t17번\t08번\t\n",
      "02번\t06번\t07번\t05번\t14번\t\n",
      "16번\t13번\t15번\t12번\t11번\t\n",
      "09번\t03번\t10번\t01번\t18번\t\n",
      "\n"
     ]
    }
   ],
   "source": [
    "import random\n",
    "def position(number, title, column):\n",
    "    print(title)\n",
    "    students = list(range(1, number+1))\n",
    "    random.shuffle(students)\n",
    "    pos = \"\"\n",
    "    for i in range(0, number):\n",
    "        if students[i] < 10:\n",
    "            pos = pos + \"0\" + str(students[i]) + \"번\\t\"\n",
    "        else:\n",
    "            pos = pos + str(students[i]) + \"번\\t\"\n",
    "        if (i+1) % column==0:\n",
    "            pos = pos + '\\n'\n",
    "    print(pos)\n",
    "position(20, title=\"3-2반\", column=5)"
   ]
  },
  {
   "cell_type": "markdown",
   "metadata": {},
   "source": [
    "##### p30_ex21"
   ]
  },
  {
   "cell_type": "code",
   "execution_count": 40,
   "metadata": {},
   "outputs": [
    {
     "name": "stdout",
     "output_type": "stream",
     "text": [
      "자기소개를 시작합니다.\n",
      "hi!\n",
      "My name is 김도원 !\n",
      "<function name at 0x000002622DAF2B60> 님 안녕하세요.\n"
     ]
    }
   ],
   "source": [
    "def hi():\n",
    "    name = input(\"이름은? \")\n",
    "    print(\"hi!\")\n",
    "    print(\"My name is\", name, '!')\n",
    "\n",
    "print(\"자기소개를 시작합니다.\")\n",
    "hi()\n",
    "print(name, \"님 안녕하세요.\")"
   ]
  },
  {
   "cell_type": "markdown",
   "metadata": {},
   "source": [
    "##### p30_ex22"
   ]
  },
  {
   "cell_type": "code",
   "execution_count": 42,
   "metadata": {},
   "outputs": [
    {
     "name": "stdout",
     "output_type": "stream",
     "text": [
      "자기소개를 시작합니다.\n",
      "hi!\n",
      "My name is 김도원 !\n",
      "김도원 님 안녕하세요.\n"
     ]
    }
   ],
   "source": [
    "def hi():\n",
    "    name = input(\"이름은? \")\n",
    "    print(\"hi!\")\n",
    "    print(\"My name is\", name, '!')\n",
    "    return name\n",
    "\n",
    "print(\"자기소개를 시작합니다.\")\n",
    "person = hi()\n",
    "print(person, \"님 안녕하세요.\")"
   ]
  },
  {
   "cell_type": "markdown",
   "metadata": {},
   "source": [
    "##### p30_ex23"
   ]
  },
  {
   "cell_type": "code",
   "execution_count": 44,
   "metadata": {},
   "outputs": [
    {
     "name": "stdout",
     "output_type": "stream",
     "text": [
      "5 10\n"
     ]
    }
   ],
   "source": [
    "# p30_ex23\n",
    "def func1():\n",
    "    a += 2\n",
    "    b *= 2\n",
    "    print(a, b)\n",
    "\n",
    "a, b = 5, 10\n",
    "func1()"
   ]
  },
  {
   "cell_type": "code",
   "execution_count": 45,
   "metadata": {},
   "outputs": [
    {
     "name": "stdout",
     "output_type": "stream",
     "text": [
      "5 10\n"
     ]
    }
   ],
   "source": [
    "# p30_ex23-1\n",
    "def func1():\n",
    "    #a += 2\n",
    "    #b *= 2\n",
    "    print(a, b)\n",
    "\n",
    "a, b = 5, 10\n",
    "func1()"
   ]
  },
  {
   "cell_type": "code",
   "execution_count": 47,
   "metadata": {},
   "outputs": [
    {
     "name": "stdout",
     "output_type": "stream",
     "text": [
      "7 20\n",
      "9 40\n"
     ]
    }
   ],
   "source": [
    "# p30_ex23-2\n",
    "def func1():\n",
    "    global a, b\n",
    "    a += 2\n",
    "    b *= 2\n",
    "    print(a, b)\n",
    "\n",
    "a, b = 5, 10\n",
    "func1()\n",
    "func1()"
   ]
  },
  {
   "cell_type": "code",
   "execution_count": 49,
   "metadata": {},
   "outputs": [
    {
     "name": "stdout",
     "output_type": "stream",
     "text": [
      "7 20\n",
      "9 40\n",
      "11 80\n",
      "13 160\n",
      "15 320\n"
     ]
    }
   ],
   "source": [
    "# p30_ex23-3\n",
    "def func1():\n",
    "    global a, b\n",
    "    a += 2\n",
    "    b *= 2\n",
    "    print(a, b)\n",
    "\n",
    "a, b = 5, 10\n",
    "for i in range(5):\n",
    "    func1()"
   ]
  },
  {
   "cell_type": "markdown",
   "metadata": {},
   "source": [
    "##### p30_ex24"
   ]
  },
  {
   "cell_type": "code",
   "execution_count": 50,
   "metadata": {},
   "outputs": [
    {
     "name": "stdout",
     "output_type": "stream",
     "text": [
      "현재점수 : 5\n",
      "최종 점수 : 10\n"
     ]
    }
   ],
   "source": [
    "def reward_penalty(kind, points):\n",
    "    global current_point\n",
    "\n",
    "    print(\"현재점수 :\", current_point)\n",
    "    if kind == \"상점\":\n",
    "        current_point+=points\n",
    "    elif kind==\"벌점\":\n",
    "        current_point-=points\n",
    "\n",
    "current_point = 5\n",
    "reward_penalty(\"상점\", 5)\n",
    "print(\"최종 점수 :\", current_point)"
   ]
  }
 ],
 "metadata": {
  "kernelspec": {
   "display_name": "Python 3",
   "language": "python",
   "name": "python3"
  },
  "language_info": {
   "codemirror_mode": {
    "name": "ipython",
    "version": 3
   },
   "file_extension": ".py",
   "mimetype": "text/x-python",
   "name": "python",
   "nbconvert_exporter": "python",
   "pygments_lexer": "ipython3",
   "version": "3.11.2"
  },
  "orig_nbformat": 4
 },
 "nbformat": 4,
 "nbformat_minor": 2
}
