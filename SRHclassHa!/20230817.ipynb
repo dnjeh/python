{
 "cells": [
  {
   "cell_type": "markdown",
   "metadata": {},
   "source": [
    "##### p1_ex1"
   ]
  },
  {
   "cell_type": "code",
   "execution_count": 85,
   "metadata": {},
   "outputs": [
    {
     "name": "stdout",
     "output_type": "stream",
     "text": [
      "()\n",
      "<class 'tuple'>\n"
     ]
    }
   ],
   "source": [
    "t1=()\n",
    "print(t1)\n",
    "print(type(t1))"
   ]
  },
  {
   "cell_type": "code",
   "execution_count": 86,
   "metadata": {},
   "outputs": [
    {
     "name": "stdout",
     "output_type": "stream",
     "text": [
      "(1,)\n",
      "<class 'tuple'>\n"
     ]
    }
   ],
   "source": [
    "t2=(1,)\n",
    "print(t2)\n",
    "print(type(t2))"
   ]
  },
  {
   "cell_type": "code",
   "execution_count": 87,
   "metadata": {},
   "outputs": [
    {
     "name": "stdout",
     "output_type": "stream",
     "text": [
      "(1, 2, 3)\n",
      "<class 'tuple'>\n"
     ]
    }
   ],
   "source": [
    "t3=(1,2,3)\n",
    "print(t3)\n",
    "print(type(t3))"
   ]
  },
  {
   "cell_type": "code",
   "execution_count": 88,
   "metadata": {},
   "outputs": [
    {
     "name": "stdout",
     "output_type": "stream",
     "text": [
      "(1, 2, 3)\n",
      "<class 'tuple'>\n"
     ]
    }
   ],
   "source": [
    "t4 = 1,2,3\n",
    "print(t4)\n",
    "print(type(t4))"
   ]
  },
  {
   "cell_type": "code",
   "execution_count": 89,
   "metadata": {},
   "outputs": [
    {
     "name": "stdout",
     "output_type": "stream",
     "text": [
      "('a', 'b', ('ab', 'cd'))\n",
      "<class 'tuple'>\n",
      "('ab', 'cd')\n"
     ]
    }
   ],
   "source": [
    "t5 = ('a', 'b', (\"ab\", \"cd\"))\n",
    "print(t5)\n",
    "print(type(t5))\n",
    "print(t5[2])"
   ]
  },
  {
   "cell_type": "markdown",
   "metadata": {},
   "source": [
    "##### p1_ex2"
   ]
  },
  {
   "cell_type": "code",
   "execution_count": 90,
   "metadata": {},
   "outputs": [
    {
     "name": "stdout",
     "output_type": "stream",
     "text": [
      "<class 'tuple'>\n",
      "(2,)\n"
     ]
    }
   ],
   "source": [
    "tu = 2,\n",
    "print(type(tu))\n",
    "print(tu)"
   ]
  },
  {
   "cell_type": "markdown",
   "metadata": {},
   "source": [
    "##### p1_ex3"
   ]
  },
  {
   "cell_type": "code",
   "execution_count": 91,
   "metadata": {},
   "outputs": [
    {
     "name": "stdout",
     "output_type": "stream",
     "text": [
      "4\n",
      "(2, 3, 4)\n",
      "(1, 2, 3, 4, 5, 6, 7)\n",
      "(1, 2, 3, 4, 5, 1, 2, 3, 4, 5)\n"
     ]
    }
   ],
   "source": [
    "#p1_ex3-1\n",
    "tu = 1,2,3,4,5\n",
    "\n",
    "print(tu[3])\n",
    "print(tu[1:4])\n",
    "print(tu + (6, 7))\n",
    "print(tu * 2)"
   ]
  },
  {
   "cell_type": "code",
   "execution_count": 92,
   "metadata": {},
   "outputs": [
    {
     "ename": "TypeError",
     "evalue": "'tuple' object does not support item assignment",
     "output_type": "error",
     "traceback": [
      "\u001b[1;31m---------------------------------------------------------------------------\u001b[0m",
      "\u001b[1;31mTypeError\u001b[0m                                 Traceback (most recent call last)",
      "Cell \u001b[1;32mIn[92], line 2\u001b[0m\n\u001b[0;32m      1\u001b[0m \u001b[39m#p1_ex3-2\u001b[39;00m\n\u001b[1;32m----> 2\u001b[0m tu[\u001b[39m1\u001b[39;49m] \u001b[39m=\u001b[39m \u001b[39m100\u001b[39m\n\u001b[0;32m      3\u001b[0m \u001b[39mprint\u001b[39m(tu)\n",
      "\u001b[1;31mTypeError\u001b[0m: 'tuple' object does not support item assignment"
     ]
    }
   ],
   "source": [
    "#p1_ex3-2\n",
    "tu[1] = 100\n",
    "print(tu)"
   ]
  },
  {
   "cell_type": "code",
   "execution_count": null,
   "metadata": {},
   "outputs": [],
   "source": [
    "del tu[1]"
   ]
  },
  {
   "cell_type": "markdown",
   "metadata": {},
   "source": [
    "##### p1_ex4"
   ]
  },
  {
   "cell_type": "code",
   "execution_count": null,
   "metadata": {},
   "outputs": [],
   "source": [
    "tu = \"이순신\", \"김유신\", \"강감찬\"\n",
    "lee, kim, kang = tu\n",
    "print(lee)\n",
    "print(kim)\n",
    "print(kang)"
   ]
  },
  {
   "cell_type": "markdown",
   "metadata": {},
   "source": [
    "##### p1_ex5"
   ]
  },
  {
   "cell_type": "code",
   "execution_count": null,
   "metadata": {},
   "outputs": [],
   "source": [
    "a = 12\n",
    "b = 34\n",
    "print(a, b)\n",
    "\n",
    "t=a\n",
    "a=b\n",
    "b=t\n",
    "\n",
    "print(a, b)"
   ]
  },
  {
   "cell_type": "code",
   "execution_count": null,
   "metadata": {},
   "outputs": [],
   "source": [
    "#p1_ex5-1\n",
    "a = 12\n",
    "b = 34\n",
    "print(a, b)\n",
    "\n",
    "a,b=b,a\n",
    "print(a,b)"
   ]
  },
  {
   "cell_type": "markdown",
   "metadata": {},
   "source": [
    "##### p2_ex7"
   ]
  },
  {
   "cell_type": "code",
   "execution_count": null,
   "metadata": {},
   "outputs": [],
   "source": [
    "d, m = divmod(7,3)\n",
    "print(\"몫\", d)\n",
    "print(\"나머지\", m)"
   ]
  },
  {
   "cell_type": "markdown",
   "metadata": {},
   "source": [
    "##### p2_ex8"
   ]
  },
  {
   "cell_type": "code",
   "execution_count": null,
   "metadata": {},
   "outputs": [],
   "source": [
    "score = [88, 95, 70, 100, 99]\n",
    "print(type(score))\n",
    "tu=tuple(score)\n",
    "print(tu)\n",
    "print(type(tu))\n",
    "li=list(tu)\n",
    "li=list(tu)\n",
    "print(type(li))"
   ]
  },
  {
   "cell_type": "markdown",
   "metadata": {},
   "source": [
    "##### p2_ex9"
   ]
  },
  {
   "cell_type": "code",
   "execution_count": null,
   "metadata": {},
   "outputs": [],
   "source": [
    "#p2_ex9-1\n",
    "dic = {\"boy\" : \"소년\", \"school\" : \"학교\", \"book\" : \"책\"}\n",
    "print(dic)"
   ]
  },
  {
   "cell_type": "code",
   "execution_count": null,
   "metadata": {},
   "outputs": [],
   "source": [
    "#p2_ex9-2\n",
    "print(dic[\"boy\"])\n",
    "print(dic[\"school\"])\n",
    "print(dic[\"girl\"])"
   ]
  },
  {
   "cell_type": "code",
   "execution_count": null,
   "metadata": {},
   "outputs": [],
   "source": [
    "#p2_ex9-3\n",
    "dic = {\"boy\" : \"소년\", \"school\" : \"학교\", \"book\" : \"책\"}\n",
    "dic[\"boy\"]=\"남자아이\"\n",
    "dic[\"girl\"]=\"여자아이\"\n",
    "\n",
    "print(dic)"
   ]
  },
  {
   "cell_type": "code",
   "execution_count": null,
   "metadata": {},
   "outputs": [],
   "source": [
    "#p2_ex9-4\n",
    "dic = {\"boy\" : \"소년\", \"school\" : \"학교\", \"book\" : \"책\"}\n",
    "\n",
    "del dic[\"boy\"]\n",
    "del dic[\"book\"]\n",
    "print(dic)"
   ]
  },
  {
   "cell_type": "markdown",
   "metadata": {},
   "source": [
    "##### p2.5_ex10"
   ]
  },
  {
   "cell_type": "code",
   "execution_count": null,
   "metadata": {},
   "outputs": [],
   "source": [
    "#p2_ex10-1\n",
    "dictionary = {\n",
    "    \"name\" : \"7D 건조 망고\",\n",
    "    \"type\" : \"당절임\",\n",
    "    \"ingredient\": [\"망고\", \"설탕\", \"메타중아황산나트륨\", \"치자황색소\"],\n",
    "    \"origin\" : \"필리핀\"\n",
    "}\n",
    "print(dictionary)"
   ]
  },
  {
   "cell_type": "code",
   "execution_count": null,
   "metadata": {},
   "outputs": [],
   "source": [
    "#p3_ex10-2\n",
    "print(\"name:\", dictionary[\"name\"])\n",
    "print(\"type:\", dictionary[\"type\"])\n",
    "print(\"ingredient:\", dictionary[\"ingredient\"])\n",
    "print(\"origin:\", dictionary[\"origin\"])"
   ]
  },
  {
   "cell_type": "code",
   "execution_count": null,
   "metadata": {},
   "outputs": [],
   "source": [
    "#p3_ex10-3\n",
    "dictionary[\"name\"] = \"8D 건조 망고\"\n",
    "dictionary[\"price\"] = 5000\n",
    "del dictionary[\"ingredient\"]\n",
    "print(dictionary)"
   ]
  },
  {
   "cell_type": "markdown",
   "metadata": {},
   "source": [
    "##### p3_ex11"
   ]
  },
  {
   "cell_type": "code",
   "execution_count": null,
   "metadata": {},
   "outputs": [],
   "source": [
    "animation = {}\n",
    "\n",
    "print(\"요소 추가 이전:\", animation)\n",
    "\n",
    "animation[\"작가\"] = \"황미나\"\n",
    "animation[\"연재작\"] = \"이오니아의 푸른 별\"\n",
    "animation[\"최근작\"] = \"보톡스\"\n",
    "\n",
    "print(\"요소 추가 이후:\", animation)\n",
    "\n",
    "del animation[\"연재작\"]\n",
    "print(\"요소 제거 이후:\", animation)"
   ]
  },
  {
   "cell_type": "markdown",
   "metadata": {},
   "source": [
    "##### p3_ex12"
   ]
  },
  {
   "cell_type": "code",
   "execution_count": null,
   "metadata": {},
   "outputs": [],
   "source": [
    "rainbow = {\"빨강\": \"red\", \"주황\": \"orange\", \"노\": \"yellow\", \"초\": \"green\", \"파\": \"blue\",\"남\": \"navy\", \"보\": \"purple\"}\n",
    "\n",
    "print(\"초록색=\", rainbow[\"초\"])\n",
    "\n",
    "rainbow[\"흰\"]=\"white\"\n",
    "rainbow[\"주황\"]=\"juhwang\"\n",
    "del rainbow[\"파\"]\n",
    "\n",
    "print(rainbow)"
   ]
  },
  {
   "cell_type": "markdown",
   "metadata": {},
   "source": [
    "##### p3_ex13\n"
   ]
  },
  {
   "cell_type": "code",
   "execution_count": null,
   "metadata": {},
   "outputs": [],
   "source": [
    "li = [[\"boy\", \"소년\"], [\"school\", \"학교\"], [\"book\", \"책\"]]\n",
    "dic = dict(li)\n",
    "print(dic)"
   ]
  },
  {
   "cell_type": "markdown",
   "metadata": {},
   "source": [
    "##### p4_ex14"
   ]
  },
  {
   "cell_type": "code",
   "execution_count": null,
   "metadata": {},
   "outputs": [],
   "source": [
    "dic = {\"boy\": \"소년\", \"school\": \"학교\", \"book\": \"책\"}\n",
    "print(dic.keys())\n",
    "print(type(dic.keys()))\n",
    "print(dic.values())\n",
    "print(type(dic.values()))\n",
    "print(dic.items())\n",
    "print(type(dic.items()))"
   ]
  },
  {
   "cell_type": "markdown",
   "metadata": {},
   "source": [
    "##### p4_ex15"
   ]
  },
  {
   "cell_type": "code",
   "execution_count": null,
   "metadata": {},
   "outputs": [],
   "source": [
    "dic = {\"boy\": \"소년\", \"school\": \"학교\", \"book\": \"책\"}\n",
    "print(dic.get(\"boy\"))\n",
    "print(dic.get(\"student\"))\n",
    "print(dic.get(\"student\", \"사전에 없는 단어입니다.\"))"
   ]
  },
  {
   "cell_type": "markdown",
   "metadata": {},
   "source": [
    "##### p4_ex16"
   ]
  },
  {
   "cell_type": "code",
   "execution_count": null,
   "metadata": {},
   "outputs": [],
   "source": [
    "#p4_ex16-1\n",
    "dic = {\"boy\": \"소년\", \"school\": \"학교\", \"book\": \"책\"}\n",
    "dic2= {\"student\": \"학생\", \"teacher\": \"선생님\", \"book\": \"서적\"}\n",
    "dic.update(dic2)\n",
    "print(dic)"
   ]
  },
  {
   "cell_type": "code",
   "execution_count": null,
   "metadata": {},
   "outputs": [],
   "source": [
    "#p4_ex16-2\n",
    "dic = {\"boy\": \"소년\", \"school\": \"학교\", \"book\": \"책\"}\n",
    "dic.update(student=\"학생\", boy = \"남자아이\")\n",
    "print(dic)"
   ]
  },
  {
   "cell_type": "markdown",
   "metadata": {},
   "source": [
    "##### ++"
   ]
  },
  {
   "cell_type": "code",
   "execution_count": null,
   "metadata": {},
   "outputs": [],
   "source": [
    "dic = {\"boy\": \"소년\", \"school\": \"학교\", \"book\": \"책\"}\n",
    "print(dic)\n",
    "dic1 = sorted(dic)\n",
    "print(dic1)"
   ]
  },
  {
   "cell_type": "code",
   "execution_count": null,
   "metadata": {},
   "outputs": [],
   "source": [
    "dic2=sorted(dic.keys())\n",
    "print(dic2)"
   ]
  },
  {
   "cell_type": "code",
   "execution_count": null,
   "metadata": {},
   "outputs": [],
   "source": [
    "dic5=sorted(dic.keys(), reverse=True)\n",
    "print(dic5)"
   ]
  },
  {
   "cell_type": "code",
   "execution_count": null,
   "metadata": {},
   "outputs": [],
   "source": [
    "dic3=sorted(dic.values())\n",
    "print(dic3)"
   ]
  },
  {
   "cell_type": "code",
   "execution_count": null,
   "metadata": {},
   "outputs": [],
   "source": [
    "dic6=sorted(dic.values(), reverse=True)\n",
    "print(dic6)"
   ]
  },
  {
   "cell_type": "code",
   "execution_count": null,
   "metadata": {},
   "outputs": [],
   "source": [
    "dic4=sorted(dic.items())\n",
    "print(dic4)"
   ]
  },
  {
   "cell_type": "code",
   "execution_count": null,
   "metadata": {},
   "outputs": [],
   "source": [
    "dic7=sorted(dic.items(), reverse=True)\n",
    "print(dic7)"
   ]
  },
  {
   "cell_type": "code",
   "execution_count": null,
   "metadata": {},
   "outputs": [],
   "source": [
    "import operator\n",
    "dic8=sorted(dic.items(), key=operator.itemgetter(1))\n",
    "print(dic8)"
   ]
  },
  {
   "cell_type": "code",
   "execution_count": null,
   "metadata": {},
   "outputs": [],
   "source": [
    "dic9=sorted(dic.items(), key=operator.itemgetter(1), reverse=True)\n",
    "print(dic9)"
   ]
  },
  {
   "cell_type": "code",
   "execution_count": null,
   "metadata": {},
   "outputs": [],
   "source": [
    "dic10=sorted(dic.items(), key=operator.itemgetter(1), reverse=True)[0]\n",
    "print(dic10)"
   ]
  },
  {
   "cell_type": "markdown",
   "metadata": {},
   "source": [
    "##### p4_ex17"
   ]
  },
  {
   "cell_type": "code",
   "execution_count": null,
   "metadata": {},
   "outputs": [],
   "source": [
    "#p4_ex17-1\n",
    "dic = {\"boy\":\"소년\", \"school\": \"학교\", \"book\": \"책\"}\n",
    "for key in dic.keys():\n",
    "    print(key)"
   ]
  },
  {
   "cell_type": "code",
   "execution_count": null,
   "metadata": {},
   "outputs": [],
   "source": [
    "#p4_ex17-2\n",
    "dic = {\"boy\":\"소년\", \"school\": \"학교\", \"book\": \"책\"}\n",
    "for value in dic.values():\n",
    "    print(value)"
   ]
  },
  {
   "cell_type": "code",
   "execution_count": null,
   "metadata": {},
   "outputs": [],
   "source": [
    "#p4_ex17-3\n",
    "dic = {\"boy\": \"소년\", \"school\": \"학교\", \"book\": \"책\"}\n",
    "for item in dic.items():\n",
    "    print(item)"
   ]
  },
  {
   "cell_type": "markdown",
   "metadata": {},
   "source": [
    "##### p4_ex18"
   ]
  },
  {
   "cell_type": "code",
   "execution_count": null,
   "metadata": {},
   "outputs": [],
   "source": [
    "dictionary = {\n",
    "    \"name\" : \"7D 건조 망고\",\n",
    "    \"type\" : \"당절임\",\n",
    "    \"ingredient\": [\"망고\", \"설탕\", \"메타중아황산나트륨\", \"치자황색소\"],\n",
    "    \"origin\" : \"필리핀\"\n",
    "}\n",
    "\n",
    "for key in dictionary:\n",
    "    print(key, ':', dictionary[key])"
   ]
  },
  {
   "cell_type": "markdown",
   "metadata": {},
   "source": [
    "##### p4_ex19"
   ]
  },
  {
   "cell_type": "code",
   "execution_count": null,
   "metadata": {},
   "outputs": [],
   "source": [
    "pets = [{\"name\": \"구름\", \"age\": 5},\n",
    "    {\"name\": \"초코\", \"age\": 3},\n",
    "    {\"name\": \"아지\", \"age\": 1},\n",
    "    {\"name\": \"호랑이\", \"age\": 1},\n",
    "]\n",
    "\n",
    "print(\"# 우리 동네 애완 동물들 #\")\n",
    "for pet in pets:\n",
    "    print(pet[\"name\"], pet[\"age\"], \"살\")"
   ]
  },
  {
   "cell_type": "markdown",
   "metadata": {},
   "source": [
    "##### p4_ex20"
   ]
  },
  {
   "cell_type": "code",
   "execution_count": null,
   "metadata": {},
   "outputs": [],
   "source": [
    "dic = {\"boy\": \"소년\", \"school\": \"학교\", \"book\": \"책\"}\n",
    "if \"student\" in dic:\n",
    "    print(\"사전에 있는 단어입니다.\")\n",
    "else:\n",
    "    print(\"이 단어는 사전에 없습니다.\")"
   ]
  },
  {
   "cell_type": "markdown",
   "metadata": {},
   "source": [
    "##### p5_ex21"
   ]
  },
  {
   "cell_type": "code",
   "execution_count": null,
   "metadata": {},
   "outputs": [],
   "source": [
    "numbers=[1,2,3,4,5,6,7,8,9,5,1,7,3,5,1,3,5,7,9]\n",
    "count={}\n",
    "for number in numbers:\n",
    "    if number in count:\n",
    "        count[number]=count[number]+1\n",
    "    else:\n",
    "        count[number]=1\n",
    "print(count)"
   ]
  },
  {
   "cell_type": "markdown",
   "metadata": {},
   "source": [
    "##### p5_ex22"
   ]
  },
  {
   "cell_type": "code",
   "execution_count": null,
   "metadata": {},
   "outputs": [],
   "source": [
    "song = \"\"\"by the rivers of babylon \"\"\"\n",
    "\n",
    "alphabet = dict()\n",
    "for c in song:\n",
    "    if c.isalpha() == False:\n",
    "        continue\n",
    "    c = c.lower()\n",
    "    if c in alphabet:\n",
    "        alphabet[c] = alphabet[c]+1\n",
    "    else:\n",
    "        alphabet[c] = 1\n",
    "print(alphabet)"
   ]
  },
  {
   "cell_type": "markdown",
   "metadata": {},
   "source": [
    "##### p5_ex23"
   ]
  },
  {
   "cell_type": "code",
   "execution_count": null,
   "metadata": {},
   "outputs": [],
   "source": [
    "key = list(alphabet.keys())\n",
    "key.sort()\n",
    "for c in key:\n",
    "    num = alphabet[c]\n",
    "    print(c, \"=>\", num)"
   ]
  },
  {
   "cell_type": "markdown",
   "metadata": {},
   "source": [
    "##### p5_ex24"
   ]
  },
  {
   "cell_type": "code",
   "execution_count": null,
   "metadata": {},
   "outputs": [],
   "source": [
    "for code in range(ord('a'), ord('z')+1):\n",
    "    c = chr(code)\n",
    "    num = alphabet.get(c, 0)\n",
    "    print(c, \"=>\", num)"
   ]
  },
  {
   "cell_type": "markdown",
   "metadata": {},
   "source": [
    "##### p5_ex25"
   ]
  },
  {
   "cell_type": "code",
   "execution_count": null,
   "metadata": {},
   "outputs": [],
   "source": [
    "영어={\"10/30\":\"단어 10개 암기\", \"11/1\":\"조별 모임\"}\n",
    "정보={\"10/11\":\"알고리즘 설계\", \"11/1\":\"프로그램 제출\"}\n",
    "수학={\"10/11\":\"도형 문제 풀기\", \"10/30\":\"통계 조사하기\"}\n",
    "음악={\"11/1\":\"조별 모임\", \"11/7\":\"노래 개사\"}\n",
    "\n",
    "일자=input(\"무슨 과제가 있는지 검색하려는 날짜를 입력하세요. (월/일) : \")\n",
    "print(일자, \"해야 할 일\")\n",
    "if 일자 in 영어:\n",
    "    print(\"영어 숙제 :\", 영어[일자])\n",
    "else:\n",
    "    print(\"영어 숙제 : 없음\")\n",
    "if 일자 in 정보:\n",
    "    print(\"정보 숙제 :\", 정보[일자])\n",
    "else:\n",
    "    print(\"정보 숙제 : 없음\")\n",
    "if 일자 in 수학:\n",
    "    print(\"수학 숙제 :\", 수학[일자])\n",
    "else:\n",
    "    print(\"수학 숙제 : 없음\")\n",
    "if 일자 in 음악:\n",
    "    print(\"음악 숙제 :\", 음악[일자])\n",
    "else:\n",
    "    print(\"음악 숙제 : 없음\")"
   ]
  }
 ],
 "metadata": {
  "kernelspec": {
   "display_name": "Python 3",
   "language": "python",
   "name": "python3"
  },
  "language_info": {
   "codemirror_mode": {
    "name": "ipython",
    "version": 3
   },
   "file_extension": ".py",
   "mimetype": "text/x-python",
   "name": "python",
   "nbconvert_exporter": "python",
   "pygments_lexer": "ipython3",
   "version": "3.11.2"
  },
  "orig_nbformat": 4
 },
 "nbformat": 4,
 "nbformat_minor": 2
}
